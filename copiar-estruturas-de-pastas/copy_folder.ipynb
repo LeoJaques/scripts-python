{
 "cells": [
  {
   "cell_type": "code",
   "execution_count": 2,
   "metadata": {},
   "outputs": [],
   "source": [
    "import os\n",
    "import shutil"
   ]
  },
  {
   "cell_type": "code",
   "execution_count": 1,
   "metadata": {},
   "outputs": [],
   "source": [
    "def copy_structure(src_folder, dst_folder):\n",
    "    if not os.path.exists(dst_folder):\n",
    "        os.makedirs(dst_folder)\n",
    "    for item in os.listdir(src_folder):\n",
    "        s = os.path.join(src_folder, item)\n",
    "        d = os.path.join(dst_folder, item)\n",
    "        if os.path.isdir(s):\n",
    "            copy_structure(s, d)\n",
    "        else:\n",
    "            pass"
   ]
  },
  {
   "cell_type": "code",
   "execution_count": 3,
   "metadata": {},
   "outputs": [],
   "source": [
    "src_folder = input(\"Digite o caminho completo da pasta base: \")\n",
    "folders = [folder for folder in os.listdir(src_folder) if os.path.isdir(os.path.join(src_folder, folder))]\n"
   ]
  },
  {
   "cell_type": "code",
   "execution_count": 4,
   "metadata": {},
   "outputs": [
    {
     "name": "stdout",
     "output_type": "stream",
     "text": [
      "Pastas existentes:\n",
      "1. 2022\n",
      "2. 2023\n"
     ]
    }
   ],
   "source": [
    "print(\"Pastas existentes:\")\n",
    "for i, folder in enumerate(folders):\n",
    "    print(f\"{i+1}. {folder}\")"
   ]
  },
  {
   "cell_type": "code",
   "execution_count": 6,
   "metadata": {},
   "outputs": [],
   "source": [
    "selected = int(input(\"Selecione a pasta a ser copiada (número): \"))\n",
    "dst_folder = os.path.join(src_folder, f\"{folders[selected-1]}-copy\")\n",
    "\n",
    "copy_structure(os.path.join(src_folder, folders[selected-1]), dst_folder)"
   ]
  },
  {
   "cell_type": "code",
   "execution_count": null,
   "metadata": {},
   "outputs": [],
   "source": []
  }
 ],
 "metadata": {
  "kernelspec": {
   "display_name": "Python 3",
   "language": "python",
   "name": "python3"
  },
  "language_info": {
   "codemirror_mode": {
    "name": "ipython",
    "version": 3
   },
   "file_extension": ".py",
   "mimetype": "text/x-python",
   "name": "python",
   "nbconvert_exporter": "python",
   "pygments_lexer": "ipython3",
   "version": "3.10.8"
  },
  "orig_nbformat": 4,
  "vscode": {
   "interpreter": {
    "hash": "70f983e877d05c859ed8da13841fe506de02a2289fe9fb743edf7a5c3c6c1ac3"
   }
  }
 },
 "nbformat": 4,
 "nbformat_minor": 2
}
