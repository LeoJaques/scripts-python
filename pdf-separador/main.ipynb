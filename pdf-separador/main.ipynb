{
 "cells": [
  {
   "cell_type": "code",
   "execution_count": 1,
   "metadata": {},
   "outputs": [],
   "source": [
    "import PyPDF2"
   ]
  },
  {
   "cell_type": "code",
   "execution_count": 2,
   "metadata": {},
   "outputs": [
    {
     "name": "stdout",
     "output_type": "stream",
     "text": [
      "Criado pagina1.pdf com sucesso.\n",
      "Criado pagina2.pdf com sucesso.\n",
      "Criado pagina3.pdf com sucesso.\n",
      "Criado pagina4.pdf com sucesso.\n",
      "Criado pagina5.pdf com sucesso.\n"
     ]
    }
   ],
   "source": [
    "\n",
    "\n",
    "# Nome do arquivo PDF a ser lido\n",
    "filename = 'nome_do_arquivo.pdf'\n",
    "\n",
    "# Criando um objeto pdf reader\n",
    "pdf_reader = PyPDF2.PdfReader(filename)\n",
    "\n",
    "# Iterando através de todas as páginas\n",
    "for page_num in range(len(pdf_reader.pages)):\n",
    "\n",
    "    # Criando um objeto pdf writer\n",
    "    pdf_writer = PyPDF2.PdfWriter()\n",
    "\n",
    "    # Adicionando a página atual à escrita do PDF\n",
    "    pdf_writer.add_page(pdf_reader.pages[page_num])\n",
    "\n",
    "    # Construindo o nome do novo arquivo PDF com o número da página\n",
    "    new_filename = f'pagina{page_num+1}.pdf'\n",
    "\n",
    "    # Escrevendo a página atual em um novo arquivo PDF\n",
    "    with open(new_filename, 'wb') as f:\n",
    "        pdf_writer.write(f)\n",
    "\n",
    "    # Imprimindo uma mensagem de confirmação\n",
    "    print(f'Criado {new_filename} com sucesso.')\n"
   ]
  }
 ],
 "metadata": {
  "kernelspec": {
   "display_name": "Python 3",
   "language": "python",
   "name": "python3"
  },
  "language_info": {
   "codemirror_mode": {
    "name": "ipython",
    "version": 3
   },
   "file_extension": ".py",
   "mimetype": "text/x-python",
   "name": "python",
   "nbconvert_exporter": "python",
   "pygments_lexer": "ipython3",
   "version": "3.10.8"
  },
  "orig_nbformat": 4,
  "vscode": {
   "interpreter": {
    "hash": "70f983e877d05c859ed8da13841fe506de02a2289fe9fb743edf7a5c3c6c1ac3"
   }
  }
 },
 "nbformat": 4,
 "nbformat_minor": 2
}
