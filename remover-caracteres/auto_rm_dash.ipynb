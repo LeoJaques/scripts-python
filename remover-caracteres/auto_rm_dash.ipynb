{
 "cells": [
  {
   "cell_type": "markdown",
   "metadata": {},
   "source": [
    "Importando OS "
   ]
  },
  {
   "cell_type": "code",
   "execution_count": 1,
   "metadata": {},
   "outputs": [],
   "source": [
    "import os"
   ]
  },
  {
   "cell_type": "markdown",
   "metadata": {},
   "source": [
    "Verificando diretório atual"
   ]
  },
  {
   "cell_type": "markdown",
   "metadata": {},
   "source": [
    "Seleção da pasta"
   ]
  },
  {
   "cell_type": "code",
   "execution_count": 2,
   "metadata": {},
   "outputs": [
    {
     "name": "stdout",
     "output_type": "stream",
     "text": [
      "auto_rm_dash.ipynb\n",
      "files\n",
      "NF 026 – CCVE 008 – UTE CAAPIRANGA – GÁS – nov.2022.pdf\n",
      "NF 026 – CCVE 009 – UTE CODAJÁS – GÁS – nov.2022.pdf\n",
      "NF 028 – CCVE 006 – UTE ANAMÃ– GÁS – nov.2022.pdf\n",
      "NF 285 – CCVE 004 – UTE TAMBAQUI – GÁS – nov.2022.pdf\n",
      "NF 287 – CCVE 003 – UTE JARAQUI – GÁS – nov.2022.pdf\n",
      "NF 289 – CCVE 002 – UTE MANAUARA – GÁS – nov.2022.pdf\n",
      "NF 291 – CCVE 005 – UTE CRISTIANO ROCHA – GÁS – nov.2022.pdf\n",
      "NF 293 – CCVE 001 – UTE PONTA NEGRA – GÁS – nov.2022.pdf\n"
     ]
    }
   ],
   "source": [
    "folder = os.getcwd()\n",
    "os.chdir(folder)\n",
    "for i in os.listdir(folder):\n",
    "    print(i)"
   ]
  },
  {
   "cell_type": "code",
   "execution_count": 7,
   "metadata": {},
   "outputs": [
    {
     "ename": "FileNotFoundError",
     "evalue": "[WinError 2] O sistema não pode encontrar o arquivo especificado: 'c:\\\\Users\\\\leonardo.jacques\\\\Desktop\\\\Projetos AME\\\\rm_dashauto_rm_dash.ipynb' -> 'c:\\\\Users\\\\leonardo.jacques\\\\Desktop\\\\Projetos AME\\\\rm_dashauto_rm_dash.ipynb'",
     "output_type": "error",
     "traceback": [
      "\u001b[1;31m---------------------------------------------------------------------------\u001b[0m",
      "\u001b[1;31mFileNotFoundError\u001b[0m                         Traceback (most recent call last)",
      "Cell \u001b[1;32mIn[7], line 9\u001b[0m\n\u001b[0;32m      7\u001b[0m rm_double_space \u001b[39m=\u001b[39m rm_dash\u001b[39m.\u001b[39mreplace(\u001b[39m'\u001b[39m\u001b[39m  \u001b[39m\u001b[39m'\u001b[39m, \u001b[39m'\u001b[39m\u001b[39m \u001b[39m\u001b[39m'\u001b[39m)\n\u001b[0;32m      8\u001b[0m new_name \u001b[39m=\u001b[39m folder \u001b[39m+\u001b[39m rm_double_space\n\u001b[1;32m----> 9\u001b[0m os\u001b[39m.\u001b[39;49mrename(old_name, new_name)\n",
      "\u001b[1;31mFileNotFoundError\u001b[0m: [WinError 2] O sistema não pode encontrar o arquivo especificado: 'c:\\\\Users\\\\leonardo.jacques\\\\Desktop\\\\Projetos AME\\\\rm_dashauto_rm_dash.ipynb' -> 'c:\\\\Users\\\\leonardo.jacques\\\\Desktop\\\\Projetos AME\\\\rm_dashauto_rm_dash.ipynb'"
     ]
    }
   ],
   "source": [
    "for file_name in os.listdir(folder):\n",
    "  if file_name == '*\\\\rm_dashauto_rm_dash.ipynb':\n",
    "    continue\n",
    "  else:\n",
    "    old_name = folder + file_name\n",
    "    rm_dash = file_name.replace('-', '')\n",
    "    rm_double_space = rm_dash.replace('  ', ' ')\n",
    "    new_name = folder + rm_double_space\n",
    "    os.rename(old_name, new_name)"
   ]
  },
  {
   "cell_type": "code",
   "execution_count": null,
   "metadata": {},
   "outputs": [],
   "source": []
  },
  {
   "cell_type": "code",
   "execution_count": 1,
   "metadata": {},
   "outputs": [
    {
     "ename": "NameError",
     "evalue": "name 'folder' is not defined",
     "output_type": "error",
     "traceback": [
      "\u001b[1;31m---------------------------------------------------------------------------\u001b[0m",
      "\u001b[1;31mNameError\u001b[0m                                 Traceback (most recent call last)",
      "Cell \u001b[1;32mIn[1], line 1\u001b[0m\n\u001b[1;32m----> 1\u001b[0m \u001b[39mfor\u001b[39;00m i \u001b[39min\u001b[39;00m os\u001b[39m.\u001b[39mlistdir(folder):\n\u001b[0;32m      2\u001b[0m     \u001b[39mprint\u001b[39m(i)\n",
      "\u001b[1;31mNameError\u001b[0m: name 'folder' is not defined"
     ]
    }
   ],
   "source": [
    "for i in os.listdir(folder):\n",
    "    print(i)"
   ]
  }
 ],
 "metadata": {
  "kernelspec": {
   "display_name": "Python 3.10.8 64-bit",
   "language": "python",
   "name": "python3"
  },
  "language_info": {
   "codemirror_mode": {
    "name": "ipython",
    "version": 3
   },
   "file_extension": ".py",
   "mimetype": "text/x-python",
   "name": "python",
   "nbconvert_exporter": "python",
   "pygments_lexer": "ipython3",
   "version": "3.10.8"
  },
  "orig_nbformat": 4,
  "vscode": {
   "interpreter": {
    "hash": "70f983e877d05c859ed8da13841fe506de02a2289fe9fb743edf7a5c3c6c1ac3"
   }
  }
 },
 "nbformat": 4,
 "nbformat_minor": 2
}
